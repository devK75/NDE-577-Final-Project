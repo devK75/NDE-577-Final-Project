{
 "cells": [
  {
   "cell_type": "code",
   "execution_count": 3,
   "metadata": {
    "id": "RH_UemF8BbHA"
   },
   "outputs": [],
   "source": [
    "import numpy as np\n",
    "import matplotlib.pyplot as plt\n",
    "from numpy import genfromtxt"
   ]
  },
  {
   "cell_type": "code",
   "execution_count": null,
   "metadata": {
    "id": "TNc_SkKkdeQh"
   },
   "outputs": [],
   "source": [
    "# Splitting the data into features (X) and labels (Y)\n",
    "my_data = genfromtxt('data.txt', delimiter='\\t')"
   ]
  },
  {
   "cell_type": "code",
   "execution_count": 9,
   "metadata": {
    "colab": {
     "base_uri": "https://localhost:8080/"
    },
    "id": "6jsGt5-TeHiL",
    "outputId": "bdc97252-1312-4f7b-efb7-fcd19b930545"
   },
   "outputs": [
    {
     "name": "stdout",
     "output_type": "stream",
     "text": [
      "(100, 2)\n",
      "(100,)\n"
     ]
    }
   ],
   "source": [
    "X = my_data[:,: 2]\n",
    "Y = my_data[:,2]\n",
    "print(X.shape)\n",
    "print(Y.shape)"
   ]
  },
  {
   "cell_type": "code",
   "execution_count": null,
   "metadata": {
    "id": "6liM4PCKuQ5d"
   },
   "outputs": [],
   "source": [
    "# Function to split data into training and testing sets\n",
    "def train_test_split (X, Y, testSize = 0.25):\n",
    "  p = np.random.permutation(len(Y))\n",
    "  X_shuffle = X[p]\n",
    "  Y_shuffle = Y[p]\n",
    "  n_rows = int(len(Y) * testSize)\n",
    "  X_train = X_shuffle[n_rows : , :]\n",
    "  Y_train = Y_shuffle[n_rows :]\n",
    "  X_test = X_shuffle[: n_rows , :]\n",
    "  Y_test = Y_shuffle[: n_rows]\n",
    "  return X_train, Y_train, X_test, Y_test"
   ]
  },
  {
   "cell_type": "code",
   "execution_count": null,
   "metadata": {
    "colab": {
     "base_uri": "https://localhost:8080/"
    },
    "id": "QNlQQfp0uptF",
    "outputId": "0992abc8-39ac-450e-bf1c-2f8a4ef171f0"
   },
   "outputs": [
    {
     "name": "stdout",
     "output_type": "stream",
     "text": [
      "(80, 2)\n",
      "(80,)\n",
      "(20, 2)\n",
      "(20,)\n"
     ]
    }
   ],
   "source": [
    "# Perform the train-test split\n",
    "X_train, Y_train, X_test, Y_test = train_test_split(X,Y, testSize = .20)\n",
    "print(X_train.shape)\n",
    "print(Y_train.shape)\n",
    "print(X_test.shape)\n",
    "print(Y_test.shape)"
   ]
  },
  {
   "cell_type": "code",
   "execution_count": null,
   "metadata": {
    "id": "dI2VOK18xBiE"
   },
   "outputs": [],
   "source": [
    "# Function to normalize features for better numerical stability and model performance\n",
    "def normalization(X_train, X_test):\n",
    "  mean_train = np.mean(X_train)\n",
    "  std_train = np.std(X_train)\n",
    "  # Normalize training and testing sets\n",
    "  X_train_normalized = (X_train - mean_train) / std_train\n",
    "  X_test_normalized = (X_test - mean_train) / std_train\n",
    "  return X_train_normalized, X_test_normalized"
   ]
  },
  {
   "cell_type": "code",
   "execution_count": null,
   "metadata": {
    "colab": {
     "base_uri": "https://localhost:8080/"
    },
    "id": "k8L-xeo8ycQH",
    "outputId": "f2a8ee05-07e7-4587-be70-c8ead3ab65f6"
   },
   "outputs": [
    {
     "name": "stdout",
     "output_type": "stream",
     "text": [
      "-3.053113317719181e-17\n",
      "1.0\n",
      "-0.20255173992909636\n",
      "0.9646567362420518\n"
     ]
    }
   ],
   "source": [
    "# Normalize the data\n",
    "X_train_normalized, X_test_normalized = normalization(X_train, X_test)\n",
    "print(np.mean(X_train_normalized))\n",
    "print(np.std(X_train_normalized))\n",
    "print(np.mean(X_test_normalized))\n",
    "print(np.std(X_test_normalized))"
   ]
  },
  {
   "cell_type": "code",
   "execution_count": null,
   "metadata": {
    "colab": {
     "base_uri": "https://localhost:8080/",
     "height": 880
    },
    "id": "zXdhq5UJ8bah",
    "outputId": "2bebed58-2f1b-49f1-edc2-42f2f133e818"
   },
   "outputs": [
    {
     "data": {
      "text/plain": [
       "<matplotlib.legend.Legend at 0x7ff76af9cbd0>"
      ]
     },
     "execution_count": 14,
     "metadata": {},
     "output_type": "execute_result"
    },
    {
     "data": {
      "image/png": "[encoded data removed]",
      "text/plain": [
       "<Figure size 1440x1080 with 2 Axes>"
      ]
     },
     "metadata": {
      "needs_background": "light"
     },
     "output_type": "display_data"
    }
   ],
   "source": [
    "fig, ax = plt.subplots(2,1,figsize = (20,15))\n",
    "Y_train_0 = np.where(Y_train == 0)[0]\n",
    "Y_train_1 = np.where(Y_train == 1)[0]\n",
    "# Scatter plot for training set\n",
    "ax[0].scatter(X_train_normalized[Y_train_0,0], X_train_normalized[Y_train_0,1], c = \"blue\", label = \"class 0\")\n",
    "ax[0].scatter(X_train_normalized[Y_train_1,0], X_train_normalized[Y_train_1,1], c = \"orange\", label = \"class 1\", marker = \"s\")\n",
    "ax[0].legend()\n",
    "\n",
    "# Repeat for the testing set\n",
    "Y_test_0 = np.where(Y_test == 0)[0]\n",
    "Y_test_1 = np.where(Y_test == 1)[0]\n",
    "ax[1].scatter(X_test_normalized[Y_test_0,0], X_test_normalized[Y_test_0,1], c = \"blue\", label = \"class 0\")\n",
    "ax[1].scatter(X_test_normalized[Y_test_1,0], X_test_normalized[Y_test_1,1], c = \"orange\", label = \"class 1\", marker = \"s\")\n",
    "ax[1].legend()"
   ]
  },
  {
   "cell_type": "code",
   "execution_count": null,
   "metadata": {
    "id": "ypjLG5gH7WK0"
   },
   "outputs": [],
   "source": [
    "from matplotlib.mathtext import Forward\n",
    "# Class definition for the Perceptron model\n",
    "class Perceptron():\n",
    "  def __init__(self, num_features) :\n",
    "    # Initialize weights and bias with small random values\n",
    "    self.num_features = num_features\n",
    "    self.weights = np.random.uniform(low = -.05, high = 0.05, size = (num_features))\n",
    "    self.bias = 0 \n",
    "  def forward(self, x):\n",
    "    # Compute the linear combination of weights and features\n",
    "    linear = np.dot(x, self.weights) + self.bias\n",
    "    predictions = [0 if linear < 0 else 1 ]\n",
    "    # Return binary predictions (0 or 1)\n",
    "    return predictions\n",
    "  def backward(self, x, y, predictions) :\n",
    "    # Compute the error between the actual and predicted labels\n",
    "    errors = y - predictions\n",
    "    return errors\n",
    "  def train(self, x, y, epochs) :\n",
    "    # Train the model for a specified number of epochs\n",
    "    for e in range (epochs) :\n",
    "      sum_error = 0\n",
    "      for i in range (y.shape[0]) :\n",
    "        predictions = self.forward(x[i])\n",
    "        errors = self.backward(x[i], y[i], predictions)\n",
    "        sum_error += errors\n",
    "        # Update weights and bias based on the error\n",
    "        self.weights = self.weights + .001 * errors * x[i] \n",
    "        self.bias = self.bias + .001 * errors \n",
    "  def evaluate(self, x, y) :\n",
    "    # Evaluate the model on a dataset\n",
    "    linear = np.dot(x, self.weights) + self.bias\n",
    "    predictions = [0 if i < 0 else 1 for i in linear]\n",
    "    # Calculate accuracy as the percentage of correct predictions\n",
    "    correct = 0\n",
    "    for i in range(len(y)):\n",
    "      if y[i] == predictions[i]:\n",
    "        correct += 1\n",
    "\n",
    "    accuracy = correct / len(y)\n",
    "    return accuracy"
   ]
  },
  {
   "cell_type": "code",
   "execution_count": null,
   "metadata": {
    "colab": {
     "base_uri": "https://localhost:8080/"
    },
    "id": "4cJPOM-FC5rA",
    "outputId": "ca1aee7e-ffc6-42dd-e59e-b72e8f87131e"
   },
   "outputs": [
    {
     "name": "stdout",
     "output_type": "stream",
     "text": [
      "[ 0.02629872 -0.02251463]\n"
     ]
    }
   ],
   "source": [
    "# Initialize the Perceptron model with the number of features\n",
    "nn_perceptron = Perceptron(X_train_normalized.shape[1])\n",
    "print(nn_perceptron.weights)"
   ]
  },
  {
   "cell_type": "code",
   "execution_count": null,
   "metadata": {
    "id": "0AxcqjJYDwLX"
   },
   "outputs": [],
   "source": [
    "# Train the Perceptron for 5 epochs\n",
    "nn_perceptron.train(X_train_normalized, Y_train, 5)\n"
   ]
  },
  {
   "cell_type": "code",
   "execution_count": null,
   "metadata": {
    "colab": {
     "base_uri": "https://localhost:8080/"
    },
    "id": "_zaXOTLWEs2s",
    "outputId": "da9344d4-e391-43a6-c6c5-8a0b7c7c0aca"
   },
   "outputs": [
    {
     "name": "stdout",
     "output_type": "stream",
     "text": [
      "[0.02717864 0.00602227]\n",
      "[-0.007]\n"
     ]
    }
   ],
   "source": [
    "# Print final weights and bias after training\n",
    "print(nn_perceptron.weights)\n",
    "print(nn_perceptron.bias)\n"
   ]
  },
  {
   "cell_type": "code",
   "execution_count": null,
   "metadata": {
    "colab": {
     "base_uri": "https://localhost:8080/"
    },
    "id": "EZXjxppjE4me",
    "outputId": "26978b68-47ee-4e53-8b85-3e6ddf814c6e"
   },
   "outputs": [
    {
     "data": {
      "text/plain": [
       "1.0"
      ]
     },
     "execution_count": 118,
     "metadata": {},
     "output_type": "execute_result"
    }
   ],
   "source": [
    "# Evaluate the model on the testing set\n",
    "nn_perceptron.evaluate(X_train_normalized, Y_train)"
   ]
  },
  {
   "cell_type": "code",
   "execution_count": 119,
   "metadata": {
    "colab": {
     "base_uri": "https://localhost:8080/"
    },
    "id": "9D_UazigBlah",
    "outputId": "afa5d0b3-1f76-4f52-b3c4-bbc6a5a087b0"
   },
   "outputs": [
    {
     "data": {
      "text/plain": [
       "1.0"
      ]
     },
     "execution_count": 119,
     "metadata": {},
     "output_type": "execute_result"
    }
   ],
   "source": [
    "nn_perceptron.evaluate(X_test_normalized, Y_test)"
   ]
  },
  {
   "cell_type": "code",
   "execution_count": null,
   "metadata": {
    "colab": {
     "base_uri": "https://localhost:8080/",
     "height": 880
    },
    "id": "SFcfeAJhBswQ",
    "outputId": "dacbf543-d94b-4759-d5ad-baf031e206d0"
   },
   "outputs": [
    {
     "data": {
      "text/plain": [
       "<matplotlib.legend.Legend at 0x7ff769491990>"
      ]
     },
     "execution_count": 122,
     "metadata": {},
     "output_type": "execute_result"
    },
    {
     "data": {
      "image/png": "[encoded data removed]",
      "text/plain": [
       "<Figure size 1440x1080 with 2 Axes>"
      ]
     },
     "metadata": {
      "needs_background": "light"
     },
     "output_type": "display_data"
    }
   ],
   "source": [
    "# Visualize the decision boundary on the training and testing sets\n",
    "x1 = [min(X_train_normalized[:,0]),max(X_train_normalized[:,0])]\n",
    "x2 = -(nn_perceptron.bias / nn_perceptron.weights[1]) / (nn_perceptron.bias / nn_perceptron.weights[0]) * x1 + (-nn_perceptron.bias / nn_perceptron.weights[1])        \n",
    "fig, ax = plt.subplots(2,1,figsize = (20,15))\n",
    "Y_train_0 = np.where(Y_train == 0)[0]\n",
    "Y_train_1 = np.where(Y_train == 1)[0]\n",
    "# Plot decision boundary and training data\n",
    "ax[0].scatter(X_train_normalized[Y_train_0,0], X_train_normalized[Y_train_0,1], c = \"blue\", label = \"class 0\")\n",
    "ax[0].scatter(X_train_normalized[Y_train_1,0], X_train_normalized[Y_train_1,1], c = \"orange\", label = \"class 1\", marker = \"s\")\n",
    "ax[0].plot(x1,x2)\n",
    "ax[0].legend()\n",
    "\n",
    "# Repeat for the testing set\n",
    "x1 = [min(X_test_normalized[:,0]),max(X_test_normalized[:,0])]\n",
    "x2 = -(nn_perceptron.bias / nn_perceptron.weights[1]) / (nn_perceptron.bias / nn_perceptron.weights[0]) * x1 + (-nn_perceptron.bias / nn_perceptron.weights[1]) \n",
    "Y_test_0 = np.where(Y_test == 0)[0]\n",
    "Y_test_1 = np.where(Y_test == 1)[0]\n",
    "ax[1].scatter(X_test_normalized[Y_test_0,0], X_test_normalized[Y_test_0,1], c = \"blue\", label = \"class 0\")\n",
    "ax[1].scatter(X_test_normalized[Y_test_1,0], X_test_normalized[Y_test_1,1], c = \"orange\", label = \"class 1\", marker = \"s\")\n",
    "ax[1].plot(x1,x2)\n",
    "ax[1].legend()"
   ]
  },
  {
   "cell_type": "markdown",
   "metadata": {},
   "source": [
    "After implementing the Perceptron algorithm, I tested its ability to classify data points into two distinct classes. The dataset, loaded from a file, was divided into features (X) and labels (Y) and split into training and testing sets using a custom function. I normalized the data to ensure the feature ranges were standardized, a crucial step to ensure that the Perceptron algorithm converges effectively. Visualization of the normalized data showed clear separation between the two classes, confirming that the dataset was well-suited for binary classification.\n",
    "\n",
    "The Perceptron model was implemented with forward, backward, and training methods. During training, the model iteratively adjusted its weights and bias based on the classification errors, with the goal of minimizing the error across the dataset. After training for five epochs, the Perceptron achieved 100% accuracy on both the training and testing datasets. This result demonstrated the model's effectiveness in correctly classifying the data points based on their features.\n",
    "\n",
    "To better understand the decision boundary learned by the Perceptron, I visualized the boundary alongside the data points. The boundary clearly separated the two classes, reinforcing the model's ability to learn a linear decision boundary. While the results were highly accurate for this dataset, the Perceptron's performance is limited to linearly separable data. For more complex datasets, nonlinear classifiers or kernel-based methods would be necessary. Overall, this implementation and analysis highlighted the strengths of the Perceptron in handling binary classification tasks with linearly separable data."
   ]
  }
 ],
 "metadata": {
  "colab": {
   "provenance": []
  },
  "kernelspec": {
   "display_name": "Python 3",
   "name": "python3"
  },
  "language_info": {
   "name": "python"
  }
 },
 "nbformat": 4,
 "nbformat_minor": 0
}
